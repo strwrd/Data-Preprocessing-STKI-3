{
 "cells": [
  {
   "cell_type": "code",
   "execution_count": 2,
   "metadata": {},
   "outputs": [],
   "source": [
    "import os\n",
    "import sys\n",
    "import nltk\n",
    "import numpy as np\n",
    "import string\n",
    "import xml.etree.ElementTree as ET\n",
    "from nltk.corpus import stopwords\n",
    "from Sastrawi.Stemmer.StemmerFactory import StemmerFactory\n",
    "from nltk.tag import CRFTagger\n",
    "from kbbi import KBBI\n",
    "\n",
    "# np.set_printoptions(threshold=sys.maxsize)\n",
    "\n",
    "def load_xml(path, size, start=0):\n",
    "    list_xml = []\n",
    "\n",
    "    # Loop each file in dir path\n",
    "    for file in os.listdir(path):\n",
    "        # Get absolute path\n",
    "        fullname = os.path.join(path, file)\n",
    "        \n",
    "        # Parsing XML\n",
    "        xml = ET.parse(fullname)\n",
    "        \n",
    "        # Append XMLTree into list_xml\n",
    "        list_xml.append(xml)\n",
    "    \n",
    "    return list_xml[start:size+start]\n",
    "\n",
    "\n",
    "def tokenization(list_xml):\n",
    "    tokens = []\n",
    "\n",
    "    # Loop each xml in list_xml\n",
    "    for xml in list_xml:\n",
    "        # Get text of tag <judul></judul> then remove punctuation\n",
    "        judul = xml.find('judul').text\n",
    "        \n",
    "        # Get text of tag <kata_kunci></kata_kunci> then remove punctuation\n",
    "        kata_kunci = xml.find('kata_kunci').text\n",
    "        \n",
    "        # Get text of tag <isi></isi> then remove punctuation\n",
    "        isi = xml.find('isi').text\n",
    "    \n",
    "        # Append new tokens into current token (new tokens concat 3 tags with spaces)\n",
    "        tokens = [*tokens, *nltk.word_tokenize(judul + \" \" + kata_kunci + \" \" + isi)]\n",
    "    \n",
    "    return tokens\n",
    "\n",
    "def casefolding(tokens):\n",
    "    # Case folding each token\n",
    "    tokens = np.char.lower(tokens)\n",
    "    return tokens\n",
    "\n",
    "\n",
    "def remove_punctuation(tokens):\n",
    "    # Punctuation symbols\n",
    "    symbols = \"0123456789!\\\"'#$%&()*+-.,/:;<=>?@[\\]^_`{|}~\\n\"\n",
    "    \n",
    "    # Iterate each punctuation symbol check if token contain punctuation symbol\n",
    "    for i in range(len(symbols)):\n",
    "        tokens = np.char.replace(tokens, symbols[i], '')\n",
    "\n",
    "    # Remove empty whitespace\n",
    "    tokens = list(filter(None,tokens))\n",
    "    return tokens\n",
    "\n",
    "def remove_stopword(tokens):\n",
    "    # Load stopwords into list_stopword\n",
    "    list_stopword =  set(stopwords.words('indonesian'))\n",
    "    new_tokens = []\n",
    "    \n",
    "    # Iterate each tokens. if token didn't match with stopword then append to new_tokens list\n",
    "    for t in tokens:\n",
    "        if t not in list_stopword:\n",
    "            new_tokens.append(t)\n",
    "\n",
    "    return new_tokens\n",
    "\n",
    "def stemming(tokens):\n",
    "    # Initialize stemmer\n",
    "    factory = StemmerFactory()\n",
    "    # Create stemmer\n",
    "    stemmer = factory.create_stemmer()\n",
    "    \n",
    "    new_tokens = []\n",
    "    # Iterate each tokens then apply stemming\n",
    "    for t in tokens:\n",
    "        new_tokens.append(stemmer.stem(t))\n",
    " \n",
    "    return new_tokens\n",
    "\n",
    "def pos_tagging(tokens):\n",
    "    # Create POS Tagger\n",
    "    ct = CRFTagger()\n",
    "    \n",
    "    # Train Post tagger with all_indo_man_tag_corpus_model.crf.tagger data.\n",
    "    ct.set_model_file('all_indo_man_tag_corpus_model.crf.tagger')\n",
    "    \n",
    "    # Do POS Tagging\n",
    "    result = ct.tag_sents([tokens])\n",
    "    return result\n",
    "\n",
    "def count_tagging(list_pos):\n",
    "    verb = 0\n",
    "    noun = 0\n",
    "    adjective = 0\n",
    "    \n",
    "    # Count each list\n",
    "    for pos in list_pos:\n",
    "        if pos[1] in [\"VB\", \"VBD\", \"VBG\", \"VBN\", \"VBP\", \"VBZ\"]:\n",
    "            verb += 1\n",
    "        elif pos[1] in [\"NN\", \"NNS\", \"NNP\", \"NNPS\"]:\n",
    "            noun += 1\n",
    "        elif pos[1] in [\"JJ\", \"JJR\", \"JJS\"]:\n",
    "            adjective += 1\n",
    "    \n",
    "    print(f\"Verb:{verb}\\nNoun:{noun}\\nAdjective:{adjective}\")\n",
    "    \n",
    "def mistaken_stemming(tokens):\n",
    "    mistaken_tokens = []\n",
    "    \n",
    "    # Loop over tokens\n",
    "    for token in tokens:\n",
    "        # Try if token doesn't exist in KBBI\n",
    "        try:\n",
    "            result = KBBI(token)\n",
    "            try:\n",
    "                # Get base_word of token\n",
    "                base_word = result.serialisasi()[token][0]['kata_dasar'][0]\n",
    "                \n",
    "                # if token doens't match with base_word, append to mistaken_tokens/\n",
    "                if token != base_word:\n",
    "                    mistaken_tokens.append(token)\n",
    "            except IndexError:\n",
    "                # Skip error if word is base_word\n",
    "                pass\n",
    "        except:\n",
    "            # Append token if doens't exist in KBBI\n",
    "            mistaken_tokens.append(token)\n",
    "    return mistaken_tokens"
   ]
  },
  {
   "cell_type": "code",
   "execution_count": 5,
   "metadata": {},
   "outputs": [
    {
     "name": "stdout",
     "output_type": "stream",
     "text": [
      "Total document:1\n"
     ]
    }
   ],
   "source": [
    "list_xml = load_xml('source', 1)\n",
    "print(f\"Total document:{len(list_xml)}\")"
   ]
  },
  {
   "cell_type": "code",
   "execution_count": 7,
   "metadata": {},
   "outputs": [
    {
     "name": "stdout",
     "output_type": "stream",
     "text": [
      "Total token:445\n",
      "\n",
      "['Puji', 'Ekonomi', 'RI', ',', 'IMF', 'Ramal', 'Pertumbuhan', 'Capai', '5,1', 'Persen', 'Ekonomi', ',', 'Keuangan', ',', 'Suku', 'Bunga', 'International', 'Monetary', 'Fund', '(', 'IMF', ')', 'memproyeksi', 'pertumbuhan', 'ekonomi', 'Indonesia', 'hingga', 'akhir', 'tahun', 'nanti', 'hanya', 'akan', 'mencapai', '5', 'persen', '.', 'Namun', ',', 'tahun', 'depan', ',', 'pertumbuhannya', 'berpotensi', 'sedikit', 'menguat', 'hingga', 'tembus', '5,1', 'persen', '.', 'Dewan', 'Eksekutif', 'IMF', 'Luis', 'E', 'Breuer', 'menyebut', 'perekonomian', 'Indonesia', 'terus', 'menunjukkan', 'perbaikan', '.', 'Hal', 'ini', 'didukung', 'oleh', 'kebijakan', 'makroekonomi', 'yang', 'baik', ',', 'serta', 'reformasi', 'struktural', 'yang', 'terus', 'berlanjut', '.', '``', 'Pemerintah', 'dan', 'otoritas', 'secara', 'terampil', 'mampu', 'melewati', 'tantangan', 'ekonomi', 'terkini', 'yang', 'tengah', 'melanda', 'ekonomi', 'global', '.', 'Pertumbuhan', 'tetap', 'kuat', ',', 'inflasi', 'menurun', 'secara', 'signifikan', ',', 'defisit', 'transaksi', 'berjalan', 'tetap', 'terjaga', '.', 'Kondisi', 'ini', 'yang', 'mampu', 'menopang', 'ekonomi', 'tahun', 'depan', ',', \"''\", 'ujar', 'Breuer', 'dalam', 'keterangan', 'resminya', ',', 'Jumat', '(', '25/11', ')', '.', 'pertBreuer', 'mengatakan', ',', 'konsumsi', 'rumah', 'tangga', 'di', 'Indonesia', 'masih', 'cukup', 'kuat', 'untuk', 'mendorong', 'pertumbuhan', 'ekonomi', 'tahun', 'depan', 'menjadi', '5,1', 'persen', '.', 'Di', 'samping', 'itu', ',', 'konsumsi', 'swasta', 'dan', 'pertumbuhan', 'investasi', 'swasta', 'juga', 'diprediksi', 'akan', 'merangkak', 'naik', 'pada', 'tahun', '2017', '.', 'Hal', 'tersebut', 'didorong', 'oleh', 'mulai', 'bangkitnya', 'harga', 'komoditas', 'secara', 'perlahan', ',', 'serta', 'suku', 'bunga', 'perbankan', 'yang', 'masih', 'cukup', 'rendah', '.', 'Inflasi', 'diprediksi', 'menyentuh', '3,3', 'persen', 'akhir', 'tahun', 'nanti', 'atau', 'tetap', 'berada', 'di', 'kisaran', 'target', 'Bank', 'Indonesia', '(', 'BI', ')', 'yang', 'mencapai', '4', 'plus', 'minus', 'satu', '.', 'Sejalan', 'dengan', 'itu', 'defisit', 'transaksi', 'berjalan', 'diproyeksi', 'meningkat', 'di', 'atas', '2', 'persen', 'dari', 'PDB', 'tahun', 'depan', 'menjadi', '2,3', 'persen', 'didorong', 'oleh', 'peningkatan', 'angka', 'investasi', 'tetap', 'dan', 'aktivitas', 'impor', '.', 'IMF', 'juga', 'menyambut', 'baik', 'langkah', 'pemerintah', 'yang', 'melakukan', 'konsolidasi', 'fiskal', 'lewat', 'pemangkasan', 'anggaran', 'sesuai', 'dengan', 'penerimaan', 'negara', 'yang', 'proporsional', '.', 'Strategi', 'fiskal', 'pemerintah', 'dengan', 'memperluas', 'basis', 'penerimaan', 'dan', 'mengerek', 'pertumbuhan', 'ekonomi', ',', 'meski', 'tetap', 'efisien', 'dengan', 'menjaga', 'defisit', 'tidak', 'melebihi', '3', 'persen', 'dari', 'PDB', ',', 'memunculkan', 'stabilitas', '.', 'IMF', 'memuji', 'mplementasi', 'kebijakan', 'moneter', 'BI', 'melalui', 'acuan', 'barunya', ',', 'yakni', 'BI', '7', 'Days', 'Reverse', 'Repo', 'rate', 'yang', 'dinilai', 'berjalan', 'lancar', 'di', 'tengah', 'gejolak', 'keuangan', 'pasar', 'global', '.', 'Rasio', 'kredit', 'bermasalah', '(', 'NPL', ')', 'perbankan', 'pun', 'disebut', 'telah', 'secara', 'signifikan', 'menurun', 'dan', 'disebut', 'telah', 'melewati', 'titik', 'puncaknya', '.', '``', 'IMF', 'menyambut', 'baik', 'kebijakan', 'BI', 'yang', 'mempertahankan', 'suku', 'bunganya', 'baru-baru', 'ini', '.', 'Kekuatan', 'modal', ',', 'dan', 'profitabilitas', 'di', 'sektor', 'keuangan', 'masih', 'menunjukan', 'indikasi', 'yang', 'bagus', ',', \"''\", 'terang', 'Beuer', '.', 'Selain', 'itu', ',', 'ada', 'progres', 'yang', 'baik', 'dengan', 'disetujuinya', 'Undang-Undang', 'Jaring', 'Pengaman', 'Sektor', 'Keuangan', '(', 'JPSK', ')', '.', 'Progres', 'juga', 'sudah', 'dilakukan', 'Indonesia', 'dengan', 'mengkonsolidasikan', 'pengawasan', 'sektor', 'keuangan', '.', '``', 'Melanjutkan', 'reformasi', 'subsidi', 'BBM', 'di', '2015', ',', 'pemerintah', 'juga', 'mulai', 'mereformasi', 'untuk', 'memperbaiki', 'iklim', 'bisnis', ',', 'termasuk', 'membangun', 'infrastruktur', ',', 'memperbaiki', 'regulasi', ',', 'membuka', 'sejumlah', 'sektor', 'ekonomi', 'kepada', 'swasta', ',', 'dan', 'juga', 'membuat', 'formula', 'baru', 'upah', 'minimum', ',', \"''\", 'pungkasnya', '.']\n"
     ]
    }
   ],
   "source": [
    "tokens = tokenization(list_xml)\n",
    "print(f\"Total token:{len(tokens)}\\n\")\n",
    "print(tokens)"
   ]
  },
  {
   "cell_type": "code",
   "execution_count": 8,
   "metadata": {},
   "outputs": [
    {
     "name": "stdout",
     "output_type": "stream",
     "text": [
      "Total token:370\n",
      "\n",
      "['Puji', 'Ekonomi', 'RI', 'IMF', 'Ramal', 'Pertumbuhan', 'Capai', 'Persen', 'Ekonomi', 'Keuangan', 'Suku', 'Bunga', 'International', 'Monetary', 'Fund', 'IMF', 'memproyeksi', 'pertumbuhan', 'ekonomi', 'Indonesia', 'hingga', 'akhir', 'tahun', 'nanti', 'hanya', 'akan', 'mencapai', 'persen', 'Namun', 'tahun', 'depan', 'pertumbuhannya', 'berpotensi', 'sedikit', 'menguat', 'hingga', 'tembus', 'persen', 'Dewan', 'Eksekutif', 'IMF', 'Luis', 'E', 'Breuer', 'menyebut', 'perekonomian', 'Indonesia', 'terus', 'menunjukkan', 'perbaikan', 'Hal', 'ini', 'didukung', 'oleh', 'kebijakan', 'makroekonomi', 'yang', 'baik', 'serta', 'reformasi', 'struktural', 'yang', 'terus', 'berlanjut', 'Pemerintah', 'dan', 'otoritas', 'secara', 'terampil', 'mampu', 'melewati', 'tantangan', 'ekonomi', 'terkini', 'yang', 'tengah', 'melanda', 'ekonomi', 'global', 'Pertumbuhan', 'tetap', 'kuat', 'inflasi', 'menurun', 'secara', 'signifikan', 'defisit', 'transaksi', 'berjalan', 'tetap', 'terjaga', 'Kondisi', 'ini', 'yang', 'mampu', 'menopang', 'ekonomi', 'tahun', 'depan', 'ujar', 'Breuer', 'dalam', 'keterangan', 'resminya', 'Jumat', 'pertBreuer', 'mengatakan', 'konsumsi', 'rumah', 'tangga', 'di', 'Indonesia', 'masih', 'cukup', 'kuat', 'untuk', 'mendorong', 'pertumbuhan', 'ekonomi', 'tahun', 'depan', 'menjadi', 'persen', 'Di', 'samping', 'itu', 'konsumsi', 'swasta', 'dan', 'pertumbuhan', 'investasi', 'swasta', 'juga', 'diprediksi', 'akan', 'merangkak', 'naik', 'pada', 'tahun', 'Hal', 'tersebut', 'didorong', 'oleh', 'mulai', 'bangkitnya', 'harga', 'komoditas', 'secara', 'perlahan', 'serta', 'suku', 'bunga', 'perbankan', 'yang', 'masih', 'cukup', 'rendah', 'Inflasi', 'diprediksi', 'menyentuh', 'persen', 'akhir', 'tahun', 'nanti', 'atau', 'tetap', 'berada', 'di', 'kisaran', 'target', 'Bank', 'Indonesia', 'BI', 'yang', 'mencapai', 'plus', 'minus', 'satu', 'Sejalan', 'dengan', 'itu', 'defisit', 'transaksi', 'berjalan', 'diproyeksi', 'meningkat', 'di', 'atas', 'persen', 'dari', 'PDB', 'tahun', 'depan', 'menjadi', 'persen', 'didorong', 'oleh', 'peningkatan', 'angka', 'investasi', 'tetap', 'dan', 'aktivitas', 'impor', 'IMF', 'juga', 'menyambut', 'baik', 'langkah', 'pemerintah', 'yang', 'melakukan', 'konsolidasi', 'fiskal', 'lewat', 'pemangkasan', 'anggaran', 'sesuai', 'dengan', 'penerimaan', 'negara', 'yang', 'proporsional', 'Strategi', 'fiskal', 'pemerintah', 'dengan', 'memperluas', 'basis', 'penerimaan', 'dan', 'mengerek', 'pertumbuhan', 'ekonomi', 'meski', 'tetap', 'efisien', 'dengan', 'menjaga', 'defisit', 'tidak', 'melebihi', 'persen', 'dari', 'PDB', 'memunculkan', 'stabilitas', 'IMF', 'memuji', 'mplementasi', 'kebijakan', 'moneter', 'BI', 'melalui', 'acuan', 'barunya', 'yakni', 'BI', 'Days', 'Reverse', 'Repo', 'rate', 'yang', 'dinilai', 'berjalan', 'lancar', 'di', 'tengah', 'gejolak', 'keuangan', 'pasar', 'global', 'Rasio', 'kredit', 'bermasalah', 'NPL', 'perbankan', 'pun', 'disebut', 'telah', 'secara', 'signifikan', 'menurun', 'dan', 'disebut', 'telah', 'melewati', 'titik', 'puncaknya', 'IMF', 'menyambut', 'baik', 'kebijakan', 'BI', 'yang', 'mempertahankan', 'suku', 'bunganya', 'barubaru', 'ini', 'Kekuatan', 'modal', 'dan', 'profitabilitas', 'di', 'sektor', 'keuangan', 'masih', 'menunjukan', 'indikasi', 'yang', 'bagus', 'terang', 'Beuer', 'Selain', 'itu', 'ada', 'progres', 'yang', 'baik', 'dengan', 'disetujuinya', 'UndangUndang', 'Jaring', 'Pengaman', 'Sektor', 'Keuangan', 'JPSK', 'Progres', 'juga', 'sudah', 'dilakukan', 'Indonesia', 'dengan', 'mengkonsolidasikan', 'pengawasan', 'sektor', 'keuangan', 'Melanjutkan', 'reformasi', 'subsidi', 'BBM', 'di', 'pemerintah', 'juga', 'mulai', 'mereformasi', 'untuk', 'memperbaiki', 'iklim', 'bisnis', 'termasuk', 'membangun', 'infrastruktur', 'memperbaiki', 'regulasi', 'membuka', 'sejumlah', 'sektor', 'ekonomi', 'kepada', 'swasta', 'dan', 'juga', 'membuat', 'formula', 'baru', 'upah', 'minimum', 'pungkasnya']\n"
     ]
    }
   ],
   "source": [
    "tokens = remove_punctuation(tokens)\n",
    "print(f\"Total token:{len(tokens)}\\n\")\n",
    "print(tokens)"
   ]
  },
  {
   "cell_type": "code",
   "execution_count": 9,
   "metadata": {
    "scrolled": true
   },
   "outputs": [
    {
     "name": "stdout",
     "output_type": "stream",
     "text": [
      "Total token:370\n",
      "\n",
      "['puji' 'ekonomi' 'ri' 'imf' 'ramal' 'pertumbuhan' 'capai' 'persen'\n",
      " 'ekonomi' 'keuangan' 'suku' 'bunga' 'international' 'monetary' 'fund'\n",
      " 'imf' 'memproyeksi' 'pertumbuhan' 'ekonomi' 'indonesia' 'hingga' 'akhir'\n",
      " 'tahun' 'nanti' 'hanya' 'akan' 'mencapai' 'persen' 'namun' 'tahun'\n",
      " 'depan' 'pertumbuhannya' 'berpotensi' 'sedikit' 'menguat' 'hingga'\n",
      " 'tembus' 'persen' 'dewan' 'eksekutif' 'imf' 'luis' 'e' 'breuer'\n",
      " 'menyebut' 'perekonomian' 'indonesia' 'terus' 'menunjukkan' 'perbaikan'\n",
      " 'hal' 'ini' 'didukung' 'oleh' 'kebijakan' 'makroekonomi' 'yang' 'baik'\n",
      " 'serta' 'reformasi' 'struktural' 'yang' 'terus' 'berlanjut' 'pemerintah'\n",
      " 'dan' 'otoritas' 'secara' 'terampil' 'mampu' 'melewati' 'tantangan'\n",
      " 'ekonomi' 'terkini' 'yang' 'tengah' 'melanda' 'ekonomi' 'global'\n",
      " 'pertumbuhan' 'tetap' 'kuat' 'inflasi' 'menurun' 'secara' 'signifikan'\n",
      " 'defisit' 'transaksi' 'berjalan' 'tetap' 'terjaga' 'kondisi' 'ini' 'yang'\n",
      " 'mampu' 'menopang' 'ekonomi' 'tahun' 'depan' 'ujar' 'breuer' 'dalam'\n",
      " 'keterangan' 'resminya' 'jumat' 'pertbreuer' 'mengatakan' 'konsumsi'\n",
      " 'rumah' 'tangga' 'di' 'indonesia' 'masih' 'cukup' 'kuat' 'untuk'\n",
      " 'mendorong' 'pertumbuhan' 'ekonomi' 'tahun' 'depan' 'menjadi' 'persen'\n",
      " 'di' 'samping' 'itu' 'konsumsi' 'swasta' 'dan' 'pertumbuhan' 'investasi'\n",
      " 'swasta' 'juga' 'diprediksi' 'akan' 'merangkak' 'naik' 'pada' 'tahun'\n",
      " 'hal' 'tersebut' 'didorong' 'oleh' 'mulai' 'bangkitnya' 'harga'\n",
      " 'komoditas' 'secara' 'perlahan' 'serta' 'suku' 'bunga' 'perbankan' 'yang'\n",
      " 'masih' 'cukup' 'rendah' 'inflasi' 'diprediksi' 'menyentuh' 'persen'\n",
      " 'akhir' 'tahun' 'nanti' 'atau' 'tetap' 'berada' 'di' 'kisaran' 'target'\n",
      " 'bank' 'indonesia' 'bi' 'yang' 'mencapai' 'plus' 'minus' 'satu' 'sejalan'\n",
      " 'dengan' 'itu' 'defisit' 'transaksi' 'berjalan' 'diproyeksi' 'meningkat'\n",
      " 'di' 'atas' 'persen' 'dari' 'pdb' 'tahun' 'depan' 'menjadi' 'persen'\n",
      " 'didorong' 'oleh' 'peningkatan' 'angka' 'investasi' 'tetap' 'dan'\n",
      " 'aktivitas' 'impor' 'imf' 'juga' 'menyambut' 'baik' 'langkah'\n",
      " 'pemerintah' 'yang' 'melakukan' 'konsolidasi' 'fiskal' 'lewat'\n",
      " 'pemangkasan' 'anggaran' 'sesuai' 'dengan' 'penerimaan' 'negara' 'yang'\n",
      " 'proporsional' 'strategi' 'fiskal' 'pemerintah' 'dengan' 'memperluas'\n",
      " 'basis' 'penerimaan' 'dan' 'mengerek' 'pertumbuhan' 'ekonomi' 'meski'\n",
      " 'tetap' 'efisien' 'dengan' 'menjaga' 'defisit' 'tidak' 'melebihi'\n",
      " 'persen' 'dari' 'pdb' 'memunculkan' 'stabilitas' 'imf' 'memuji'\n",
      " 'mplementasi' 'kebijakan' 'moneter' 'bi' 'melalui' 'acuan' 'barunya'\n",
      " 'yakni' 'bi' 'days' 'reverse' 'repo' 'rate' 'yang' 'dinilai' 'berjalan'\n",
      " 'lancar' 'di' 'tengah' 'gejolak' 'keuangan' 'pasar' 'global' 'rasio'\n",
      " 'kredit' 'bermasalah' 'npl' 'perbankan' 'pun' 'disebut' 'telah' 'secara'\n",
      " 'signifikan' 'menurun' 'dan' 'disebut' 'telah' 'melewati' 'titik'\n",
      " 'puncaknya' 'imf' 'menyambut' 'baik' 'kebijakan' 'bi' 'yang'\n",
      " 'mempertahankan' 'suku' 'bunganya' 'barubaru' 'ini' 'kekuatan' 'modal'\n",
      " 'dan' 'profitabilitas' 'di' 'sektor' 'keuangan' 'masih' 'menunjukan'\n",
      " 'indikasi' 'yang' 'bagus' 'terang' 'beuer' 'selain' 'itu' 'ada' 'progres'\n",
      " 'yang' 'baik' 'dengan' 'disetujuinya' 'undangundang' 'jaring' 'pengaman'\n",
      " 'sektor' 'keuangan' 'jpsk' 'progres' 'juga' 'sudah' 'dilakukan'\n",
      " 'indonesia' 'dengan' 'mengkonsolidasikan' 'pengawasan' 'sektor'\n",
      " 'keuangan' 'melanjutkan' 'reformasi' 'subsidi' 'bbm' 'di' 'pemerintah'\n",
      " 'juga' 'mulai' 'mereformasi' 'untuk' 'memperbaiki' 'iklim' 'bisnis'\n",
      " 'termasuk' 'membangun' 'infrastruktur' 'memperbaiki' 'regulasi' 'membuka'\n",
      " 'sejumlah' 'sektor' 'ekonomi' 'kepada' 'swasta' 'dan' 'juga' 'membuat'\n",
      " 'formula' 'baru' 'upah' 'minimum' 'pungkasnya']\n"
     ]
    }
   ],
   "source": [
    "tokens = casefolding(tokens)\n",
    "print(f\"Total token:{len(tokens)}\\n\")\n",
    "print(tokens)"
   ]
  },
  {
   "cell_type": "code",
   "execution_count": 10,
   "metadata": {},
   "outputs": [
    {
     "name": "stdout",
     "output_type": "stream",
     "text": [
      "Total token:235\n",
      "\n",
      "['puji', 'ekonomi', 'ri', 'imf', 'ramal', 'pertumbuhan', 'capai', 'persen', 'ekonomi', 'keuangan', 'suku', 'bunga', 'international', 'monetary', 'fund', 'imf', 'memproyeksi', 'pertumbuhan', 'ekonomi', 'indonesia', 'mencapai', 'persen', 'pertumbuhannya', 'berpotensi', 'menguat', 'tembus', 'persen', 'dewan', 'eksekutif', 'imf', 'luis', 'e', 'breuer', 'menyebut', 'perekonomian', 'indonesia', 'perbaikan', 'didukung', 'kebijakan', 'makroekonomi', 'reformasi', 'struktural', 'berlanjut', 'pemerintah', 'otoritas', 'terampil', 'melewati', 'tantangan', 'ekonomi', 'terkini', 'melanda', 'ekonomi', 'global', 'pertumbuhan', 'kuat', 'inflasi', 'menurun', 'signifikan', 'defisit', 'transaksi', 'berjalan', 'terjaga', 'kondisi', 'menopang', 'ekonomi', 'breuer', 'keterangan', 'resminya', 'jumat', 'pertbreuer', 'konsumsi', 'rumah', 'tangga', 'indonesia', 'kuat', 'mendorong', 'pertumbuhan', 'ekonomi', 'persen', 'samping', 'konsumsi', 'swasta', 'pertumbuhan', 'investasi', 'swasta', 'diprediksi', 'merangkak', 'didorong', 'bangkitnya', 'harga', 'komoditas', 'perlahan', 'suku', 'bunga', 'perbankan', 'rendah', 'inflasi', 'diprediksi', 'menyentuh', 'persen', 'kisaran', 'target', 'bank', 'indonesia', 'bi', 'mencapai', 'plus', 'minus', 'sejalan', 'defisit', 'transaksi', 'berjalan', 'diproyeksi', 'meningkat', 'persen', 'pdb', 'persen', 'didorong', 'peningkatan', 'angka', 'investasi', 'aktivitas', 'impor', 'imf', 'menyambut', 'langkah', 'pemerintah', 'konsolidasi', 'fiskal', 'pemangkasan', 'anggaran', 'sesuai', 'penerimaan', 'negara', 'proporsional', 'strategi', 'fiskal', 'pemerintah', 'memperluas', 'basis', 'penerimaan', 'mengerek', 'pertumbuhan', 'ekonomi', 'efisien', 'menjaga', 'defisit', 'melebihi', 'persen', 'pdb', 'memunculkan', 'stabilitas', 'imf', 'memuji', 'mplementasi', 'kebijakan', 'moneter', 'bi', 'acuan', 'barunya', 'bi', 'days', 'reverse', 'repo', 'rate', 'dinilai', 'berjalan', 'lancar', 'gejolak', 'keuangan', 'pasar', 'global', 'rasio', 'kredit', 'bermasalah', 'npl', 'perbankan', 'signifikan', 'menurun', 'melewati', 'titik', 'puncaknya', 'imf', 'menyambut', 'kebijakan', 'bi', 'mempertahankan', 'suku', 'bunganya', 'barubaru', 'kekuatan', 'modal', 'profitabilitas', 'sektor', 'keuangan', 'menunjukan', 'indikasi', 'bagus', 'terang', 'beuer', 'progres', 'disetujuinya', 'undangundang', 'jaring', 'pengaman', 'sektor', 'keuangan', 'jpsk', 'progres', 'indonesia', 'mengkonsolidasikan', 'pengawasan', 'sektor', 'keuangan', 'melanjutkan', 'reformasi', 'subsidi', 'bbm', 'pemerintah', 'mereformasi', 'memperbaiki', 'iklim', 'bisnis', 'membangun', 'infrastruktur', 'memperbaiki', 'regulasi', 'membuka', 'sektor', 'ekonomi', 'swasta', 'formula', 'upah', 'minimum', 'pungkasnya']\n"
     ]
    }
   ],
   "source": [
    "tokens = remove_stopword(tokens)\n",
    "print(f\"Total token:{len(tokens)}\\n\")\n",
    "print(tokens)"
   ]
  },
  {
   "cell_type": "code",
   "execution_count": 11,
   "metadata": {},
   "outputs": [
    {
     "name": "stdout",
     "output_type": "stream",
     "text": [
      "Total token:235\n",
      "\n",
      "['puji', 'ekonomi', 'ri', 'imf', 'ramal', 'tumbuh', 'capai', 'persen', 'ekonomi', 'uang', 'suku', 'bunga', 'international', 'monetary', 'fund', 'imf', 'proyeksi', 'tumbuh', 'ekonomi', 'indonesia', 'capai', 'persen', 'tumbuh', 'potensi', 'kuat', 'tembus', 'persen', 'dewan', 'eksekutif', 'imf', 'luis', 'e', 'breuer', 'sebut', 'ekonomi', 'indonesia', 'baik', 'dukung', 'bijak', 'makroekonomi', 'reformasi', 'struktural', 'lanjut', 'perintah', 'otoritas', 'terampil', 'lewat', 'tantang', 'ekonomi', 'kini', 'landa', 'ekonomi', 'global', 'tumbuh', 'kuat', 'inflasi', 'turun', 'signifikan', 'defisit', 'transaksi', 'jalan', 'jaga', 'kondisi', 'topang', 'ekonomi', 'breuer', 'terang', 'resmi', 'jumat', 'pertbreuer', 'konsumsi', 'rumah', 'tangga', 'indonesia', 'kuat', 'dorong', 'tumbuh', 'ekonomi', 'persen', 'samping', 'konsumsi', 'swasta', 'tumbuh', 'investasi', 'swasta', 'prediksi', 'rangkak', 'dorong', 'bangkit', 'harga', 'komoditas', 'perlahan', 'suku', 'bunga', 'perban', 'rendah', 'inflasi', 'prediksi', 'sentuh', 'persen', 'kisar', 'target', 'bank', 'indonesia', 'bi', 'capai', 'plus', 'minus', 'jalan', 'defisit', 'transaksi', 'jalan', 'proyeksi', 'tingkat', 'persen', 'pdb', 'persen', 'dorong', 'tingkat', 'angka', 'investasi', 'aktivitas', 'impor', 'imf', 'sambut', 'langkah', 'perintah', 'konsolidasi', 'fiskal', 'mangkas', 'anggar', 'sesuai', 'terima', 'negara', 'proporsional', 'strategi', 'fiskal', 'perintah', 'luas', 'basis', 'terima', 'kerek', 'tumbuh', 'ekonomi', 'efisien', 'jaga', 'defisit', 'lebih', 'persen', 'pdb', 'muncul', 'stabilitas', 'imf', 'puji', 'mplementasi', 'bijak', 'moneter', 'bi', 'acu', 'baru', 'bi', 'days', 'reverse', 'repo', 'rate', 'nilai', 'jalan', 'lancar', 'gejolak', 'uang', 'pasar', 'global', 'rasio', 'kredit', 'masalah', 'npl', 'perban', 'signifikan', 'turun', 'lewat', 'titik', 'puncak', 'imf', 'sambut', 'bijak', 'bi', 'tahan', 'suku', 'bunga', 'barubaru', 'kuat', 'modal', 'profitabilitas', 'sektor', 'uang', 'tunjuk', 'indikasi', 'bagus', 'terang', 'beuer', 'progres', 'tuju', 'undangundang', 'jaring', 'kam', 'sektor', 'uang', 'jpsk', 'progres', 'indonesia', 'konsolidasi', 'awas', 'sektor', 'uang', 'lanjut', 'reformasi', 'subsidi', 'bbm', 'perintah', 'reformasi', 'baik', 'iklim', 'bisnis', 'bangun', 'infrastruktur', 'baik', 'regulasi', 'buka', 'sektor', 'ekonomi', 'swasta', 'formula', 'upah', 'minimum', 'pungkas']\n"
     ]
    }
   ],
   "source": [
    "tokens = stemming(tokens)\n",
    "print(f\"Total token:{len(tokens)}\\n\")\n",
    "print(tokens)"
   ]
  },
  {
   "cell_type": "code",
   "execution_count": 12,
   "metadata": {},
   "outputs": [
    {
     "name": "stdout",
     "output_type": "stream",
     "text": [
      "Verb:40\n",
      "Noun:141\n",
      "Adjective:32\n"
     ]
    }
   ],
   "source": [
    "count_tagging(*pos_tagging(tokens))"
   ]
  },
  {
   "cell_type": "code",
   "execution_count": 13,
   "metadata": {
    "scrolled": true
   },
   "outputs": [
    {
     "name": "stdout",
     "output_type": "stream",
     "text": [
      "[('ekonomi', 10), ('persen', 8), ('tumbuh', 7), ('imf', 6), ('uang', 5), ('indonesia', 5), ('kuat', 4), ('perintah', 4), ('jalan', 4), ('bi', 4)]\n"
     ]
    }
   ],
   "source": [
    "most_common_words = nltk.FreqDist(tokens)\n",
    "print(most_common_words.most_common()[:10])"
   ]
  },
  {
   "cell_type": "code",
   "execution_count": 14,
   "metadata": {},
   "outputs": [
    {
     "name": "stdout",
     "output_type": "stream",
     "text": [
      "['imf', 'international', 'monetary', 'fund', 'imf', 'imf', 'luis', 'breuer', 'breuer', 'pertbreuer']\n"
     ]
    }
   ],
   "source": [
    "print(mistaken_stemming(tokens))"
   ]
  },
  {
   "cell_type": "code",
   "execution_count": null,
   "metadata": {},
   "outputs": [],
   "source": []
  }
 ],
 "metadata": {
  "kernelspec": {
   "display_name": "Python 3",
   "language": "python",
   "name": "python3"
  },
  "language_info": {
   "codemirror_mode": {
    "name": "ipython",
    "version": 3
   },
   "file_extension": ".py",
   "mimetype": "text/x-python",
   "name": "python",
   "nbconvert_exporter": "python",
   "pygments_lexer": "ipython3",
   "version": "3.7.4"
  }
 },
 "nbformat": 4,
 "nbformat_minor": 2
}
